{
 "cells": [
  {
   "cell_type": "code",
   "execution_count": 1,
   "metadata": {
    "collapsed": false
   },
   "outputs": [],
   "source": [
    "import numpy as np\n",
    "import scipy.io as sio\n",
    "import scipy\n",
    "import scipy.spatial\n",
    "from scipy.linalg import norm\n",
    "\n",
    "mat_contents = sio.loadmat('umist_cropped.mat')\n",
    "facedat = mat_contents['facedat']\n",
    "\n",
    "people = facedat[0]\n",
    "people1 = facedat[0][0]\n",
    "people2 = facedat[0][1]\n",
    "people1_face1 = facedat[0][0][:,:,0]\n",
    "people2_face2 = facedat[0][1][:,:,1]\n",
    "\n",
    "vec_people1_face1 = people1_face1.flatten()\n",
    "vec_people2_face2 = people2_face2.flatten()\n",
    "pixels=112*92\n"
   ]
  },
  {
   "cell_type": "code",
   "execution_count": 2,
   "metadata": {
    "collapsed": false,
    "scrolled": true
   },
   "outputs": [
    {
     "name": "stdout",
     "output_type": "stream",
     "text": [
      "38\n",
      "35\n",
      "73\n",
      "[[    0.          1712.1583252   3003.83666992 ...,  7742.68994141\n",
      "   8096.61083984  8547.62402344]\n",
      " [ 1712.1583252      0.          2379.18066406 ...,  7789.65966797\n",
      "   8114.29882812  8594.61621094]\n",
      " [ 3003.83666992  2379.18066406     0.         ...,  7790.39892578\n",
      "   8078.74072266  8658.35253906]\n",
      " ..., \n",
      " [ 7742.68994141  7789.65966797  7790.39892578 ...,     0.          4006.83203125\n",
      "   5862.74365234]\n",
      " [ 8096.61083984  8114.29882812  8078.74072266 ...,  4006.83203125     0.\n",
      "   4748.14306641]\n",
      " [ 8547.62402344  8594.61621094  8658.35253906 ...,  5862.74365234\n",
      "   4748.14306641     0.        ]]\n",
      "9177.34\n"
     ]
    }
   ],
   "source": [
    "people1_pic_size = facedat[0][0][:][91][1].size\n",
    "print people1_pic_size\n",
    "mat_people1 = np.zeros((people1_pic_size,pixels))\n",
    "for i in range(0,people1_pic_size):\n",
    "        mat_people1[i]= facedat[0][0][:,:,i].flatten()# mat_people1 是描述 class1 的大矩阵\n",
    "vec_people1 = mat_people1.flatten()\n",
    "\n",
    "\n",
    "people2_pic_size = facedat[0][1][:][91][1].size\n",
    "print people2_pic_size\n",
    "mat_people2 = np.zeros((people2_pic_size,pixels))\n",
    "for i in range(0,people2_pic_size):\n",
    "        mat_people2[i]= facedat[0][1][:,:,i].flatten()# mat_people1 是描述 class2 的大矩阵\n",
    "vec_people2 = mat_people2.flatten()\n",
    "\n",
    "def cal_distance_mat_people12(mat_peoplei,mat_peoplej):\n",
    "    sizei = mat_peoplei.shape[0]\n",
    "    sizej = mat_peoplej.shape[0]\n",
    "    size = sizei+sizej\n",
    "    print size\n",
    "    mat_dist = np.zeros((size,size),dtype='f') \n",
    "    mat_people12=np.row_stack((mat_peoplei,mat_peoplej))\n",
    "    for i in range(0,size):\n",
    "        for j in range(0,size):\n",
    "            mat_dist[i][j]= scipy.spatial.distance.euclidean(mat_people12[i],mat_people12[j])\n",
    "#             elif (i < ) and (j >= sizei):\n",
    "#                 mat_dist[i][j]= scipy.spatial.distance.euclidean(mat_peoplei[i],mat_peoplej[j-sizei])\n",
    "#             elif (i >= sizei) and (j < sizei):\n",
    "#                 mat_dist[i][j]= scipy.spatial.distance.euclidean(mat_peoplei[i-sizei],mat_peoplej[j])\n",
    "#             elif (i >= sizei) and (j >= sizej):\n",
    "#                 mat_dist[i][j]= scipy.spatial.distance.euclidean(mat_peoplei[i-sizei],mat_peoplej[j-sizei])\n",
    "    return mat_dist # the output is the distance matrix of the people1'face1 and people2'face2 \n",
    "\n",
    "\n"
   ]
  },
  {
   "cell_type": "code",
   "execution_count": 3,
   "metadata": {
    "collapsed": false
   },
   "outputs": [],
   "source": [
    "#计算class1的类内距离矩阵 ？ 封成函数？ \n",
    "\n",
    "def cal_mat_class_distance(mat_peoplei,distance_method):  #（描述第i个class的矩阵 size*10340） 计算类内样本距离，类内样本距离向量\n",
    "    rows = mat_peoplei.shape[0]\n",
    "    dist = 0\n",
    "    num = 0\n",
    "    vec_class_distance = np.zeros((rows*(rows-1)/2),dtype='f')\n",
    "    for i in range(0,rows-1):\n",
    "        for j in range(i+1,rows):\n",
    "            result = distance_method(mat_peoplei[i],mat_peoplei[j])\n",
    "            vec_class_distance[num] = result\n",
    "            dist += result\n",
    "            num += 1          \n",
    "    return dist,vec_class_distance\n"
   ]
  },
  {
   "cell_type": "code",
   "execution_count": 4,
   "metadata": {
    "collapsed": false
   },
   "outputs": [],
   "source": [
    "def sci_norm(mat_person_1,mat_person_2):\n",
    "    return scipy.spatial.distance.norm((mat_person_1,mat_person_2))\n",
    "def euclidean(mat_person_1,mat_person_2):\n",
    "    return scipy.spatial.distance.euclidean(mat_person_1,mat_person_2)\n",
    "def cosine(mat_person_1,mat_person_2):\n",
    "    return scipy.spatial.distance.cosine(mat_person_1,mat_person_2)\n",
    "def pdist(mat_person_1,mat_person_2):\n",
    "    return scipy.spatial.distance.pdist(np.row_stack((mat_person_1,mat_person_2)))\n",
    "def lp1(mat_person_1,mat_person_2):\n",
    "    return norm(mat_person_1-mat_person_2,1)\n",
    "def angular(array1,array2):\n",
    "    return norm(array1/norm(array1)-array2/norm(array2))"
   ]
  },
  {
   "cell_type": "code",
   "execution_count": 5,
   "metadata": {
    "collapsed": false
   },
   "outputs": [],
   "source": [
    "def cal_avg_mat_class_distance (mat_people,distance_method): #计算类内样本平均距离\n",
    "    dist = 0\n",
    "    num = 0\n",
    "    for item in mat_people:\n",
    "        people_item_pic_size = item[:][91][1].size\n",
    "        num += people_item_pic_size * (people_item_pic_size-1)/2\n",
    "        # mat_people_item是描述 第item个class 的大矩阵\n",
    "        mat_people_item = mat2vecs(mat_people_item)\n",
    "        result_dist,result_vetor =  cal_mat_class_distance(mat_people_item,distance_method)\n",
    "        dist += result_dist\n",
    "    av_dist = dist / num\n",
    "    return av_dist\n",
    "\n"
   ]
  },
  {
   "cell_type": "code",
   "execution_count": 86,
   "metadata": {
    "collapsed": false
   },
   "outputs": [
    {
     "name": "stdout",
     "output_type": "stream",
     "text": [
      "73\n",
      "2111.22021484\n"
     ]
    }
   ],
   "source": [
    "mat_dist=cal_distance_mat_people12(mat_people1,mat_people2)\n",
    "\n",
    "#计算class1 （people1）的类内距离标准差\n",
    "dist1,vec_class_distance_people1 = cal_mat_class_distance(mat_people1,euclidean) \n",
    "std1 = np.std(vec_class_distance_people1)\n",
    "#计算class2 （people2）的类内距离标准差\n",
    "dist2,vec_class_distance_people2 = cal_mat_class_distance(mat_people2,euclidean) \n",
    "std2 = np.std(vec_class_distance_people2)\n",
    "std12 = (std1+std2)/2\n",
    "print std12\n"
   ]
  },
  {
   "cell_type": "code",
   "execution_count": 87,
   "metadata": {
    "collapsed": false
   },
   "outputs": [
    {
     "name": "stdout",
     "output_type": "stream",
     "text": [
      "[[ 1.          0.44442213  0.24103901 ...,  0.02554279  0.02160051\n",
      "   0.01744564]\n",
      " [ 0.44442213  1.          0.32402903 ...,  0.02498079  0.02142029\n",
      "   0.01706162]\n",
      " [ 0.24103901  0.32402903  1.         ...,  0.02497205  0.02178412\n",
      "   0.01655424]\n",
      " ..., \n",
      " [ 0.02554279  0.02498079  0.02497205 ...,  1.          0.1498868\n",
      "   0.06222829]\n",
      " [ 0.02160051  0.02142029  0.02178412 ...,  0.1498868   1.          0.10550424]\n",
      " [ 0.01744564  0.01706162  0.01655424 ...,  0.06222829  0.10550424  1.        ]]\n",
      "(73, 73)\n"
     ]
    }
   ],
   "source": [
    "mat_W = np.exp(-mat_dist/std12) #mat_W是 similarity matrix  核函数为 exp(-d/std)\n",
    "print mat_W"
   ]
  },
  {
   "cell_type": "code",
   "execution_count": 97,
   "metadata": {
    "collapsed": false
   },
   "outputs": [
    {
     "name": "stdout",
     "output_type": "stream",
     "text": [
      "[-1. -1. -1. -1. -1. -1. -1. -1. -1. -1. -1. -1. -1. -1. -1. -1. -1. -1.\n",
      " -1.  1.  1.  1.  1.  1.  1.  1.  1.  1.  1.  1.  1.  1.  1.  1.  1.  1.\n",
      "  1.  1. -1. -1. -1. -1. -1. -1. -1. -1. -1. -1. -1. -1. -1. -1. -1.  1.\n",
      "  1.  1.  1.  1.  1.  1.  1.  1.  1. -1. -1. -1. -1. -1. -1.  1.  1.  1.\n",
      "  1.]\n"
     ]
    }
   ],
   "source": [
    "import nmcut as nc\n",
    "import networkx as nx\n",
    "netx = nx.Graph(mat_W)\n",
    "# eigen_value,vector=nc.ncut(mat_W,72)\n",
    "# print eigen_value\n",
    "# print vector\n",
    "v_partition = nc.normalized_min_cut(netx)\n",
    "# colors = np.zeros((len(v_partition), 3)) + 1.0\n",
    "# colors[:, 2] = np.where(v_partition >= 0, 1.0, 0)\n",
    "# nx.draw(netx, node_color=colors)\n",
    "print v_partition"
   ]
  },
  {
   "cell_type": "code",
   "execution_count": 90,
   "metadata": {
    "collapsed": false
   },
   "outputs": [
    {
     "name": "stdout",
     "output_type": "stream",
     "text": [
      "0.493150684932\n"
     ]
    }
   ],
   "source": [
    "result = v_partition\n",
    "truth = np.column_stack((np.array([[1]*38]),np.array([[-1]*35])))\n",
    "x= np.multiply(result,truth)\n",
    "fenmu = (x + 1)/2\n",
    "\n",
    "fenmu = fenmu.sum()\n",
    "accurancy = fenmu / 73.0\n",
    "print accurancy\n",
    "# result = vector.diagonal()\n",
    "# print result\n",
    "# result = np.sign(result)\n",
    "# print result"
   ]
  },
  {
   "cell_type": "code",
   "execution_count": 10,
   "metadata": {
    "collapsed": true
   },
   "outputs": [],
   "source": [
    "def cal_distance_between_2_class(mat_person_1,mat_person_2,distance_method):\n",
    "    distance = 0.0\n",
    "    for i in range(len(mat_person_1)):\n",
    "        for j in range(len(mat_person_2)):\n",
    "            distance += distance_method(mat_person_1[i],mat_person_2[j])    \n",
    "    return distance"
   ]
  },
  {
   "cell_type": "code",
   "execution_count": 11,
   "metadata": {
    "collapsed": true
   },
   "outputs": [],
   "source": [
    "def cal_avg_distance_between_class(mat_people,distance_method):\n",
    "    distance = 0.0\n",
    "    num = len(mat_people)\n",
    "    num_of_distance = 0\n",
    "    for i in range(0,num-1):\n",
    "        for j in range(i+1,num):\n",
    "            mat_person_i = mat2vecs(mat_people[i])\n",
    "            mat_person_j = mat2vecs(mat_people[j])\n",
    "            distance += cal_distance_between_2_class(mat_person_i,mat_person_j,distance_method)\n",
    "            num_of_distance += len(mat_person_i) * len(mat_person_j)\n",
    "    return distance / num_of_distance"
   ]
  },
  {
   "cell_type": "code",
   "execution_count": 12,
   "metadata": {
    "collapsed": true
   },
   "outputs": [],
   "source": [
    "def mat2vecs(mat_person):\n",
    "    people_pic_size = mat_person[:][91][1].size\n",
    "    # print people_pic_size\n",
    "    mat_people = np.zeros((people_pic_size,pixels))\n",
    "    for i in range(0,people_pic_size):\n",
    "        mat_people[i]= mat_person[:,:,i].flatten()# mat_people1 是描述 class的大矩阵\n",
    "    return mat_people"
   ]
  },
  {
   "cell_type": "code",
   "execution_count": 13,
   "metadata": {
    "collapsed": true
   },
   "outputs": [],
   "source": [
    "def eval_avg_distance(mat_people,distance_method):\n",
    "    avg_mat_class_distance = cal_avg_mat_class_distance(mat_people,distance_method) # 平均类内样本距离\n",
    "    avg_distance_between_class = cal_avg_distance_between_class(mat_people,distance_method) # 平均类间样本距离\n",
    "    return avg_mat_class_distance / avg_distance_between_class"
   ]
  },
  {
   "cell_type": "code",
   "execution_count": 14,
   "metadata": {
    "collapsed": false,
    "scrolled": true
   },
   "outputs": [
    {
     "name": "stdout",
     "output_type": "stream",
     "text": [
      "5968.55733171\n"
     ]
    }
   ],
   "source": [
    "print cal_avg_distance_between_class(facedat[0],euclidean)"
   ]
  },
  {
   "cell_type": "code",
   "execution_count": 15,
   "metadata": {
    "collapsed": false
   },
   "outputs": [
    {
     "name": "stdout",
     "output_type": "stream",
     "text": [
      "461635.208036\n"
     ]
    }
   ],
   "source": [
    "print cal_avg_distance_between_class(facedat[0],lp1)"
   ]
  },
  {
   "cell_type": "code",
   "execution_count": 22,
   "metadata": {
    "collapsed": false
   },
   "outputs": [
    {
     "name": "stdout",
     "output_type": "stream",
     "text": [
      "0.150663131282\n"
     ]
    }
   ],
   "source": [
    "print cal_avg_distance_between_class(facedat[0],cosine)"
   ]
  },
  {
   "cell_type": "code",
   "execution_count": 23,
   "metadata": {
    "collapsed": false
   },
   "outputs": [
    {
     "name": "stdout",
     "output_type": "stream",
     "text": [
      "0.54238177259\n"
     ]
    }
   ],
   "source": [
    "print cal_avg_distance_between_class(facedat[0],angular)"
   ]
  },
  {
   "cell_type": "code",
   "execution_count": null,
   "metadata": {
    "collapsed": true
   },
   "outputs": [],
   "source": []
  }
 ],
 "metadata": {
  "celltoolbar": "Slideshow",
  "kernelspec": {
   "display_name": "Python 2",
   "language": "python",
   "name": "python2"
  },
  "language_info": {
   "codemirror_mode": {
    "name": "ipython",
    "version": 2
   },
   "file_extension": ".py",
   "mimetype": "text/x-python",
   "name": "python",
   "nbconvert_exporter": "python",
   "pygments_lexer": "ipython2",
   "version": "2.7.6"
  }
 },
 "nbformat": 4,
 "nbformat_minor": 0
}
